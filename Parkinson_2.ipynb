{
  "nbformat": 4,
  "nbformat_minor": 0,
  "metadata": {
    "colab": {
      "provenance": []
    },
    "kernelspec": {
      "name": "python3",
      "display_name": "Python 3"
    },
    "language_info": {
      "name": "python"
    }
  },
  "cells": [
    {
      "cell_type": "markdown",
      "source": [
        "## Imports"
      ],
      "metadata": {
        "id": "Zxe7INJQAUOe"
      }
    },
    {
      "cell_type": "code",
      "source": [
        "import pandas as pd\n",
        "import numpy as np\n",
        "from sklearn.model_selection import train_test_split, GridSearchCV, StratifiedKFold\n",
        "from sklearn.preprocessing import StandardScaler\n",
        "from sklearn.ensemble import RandomForestClassifier\n",
        "from sklearn.pipeline import Pipeline\n",
        "from sklearn.metrics import classification_report, confusion_matrix, roc_auc_score, roc_curve, ConfusionMatrixDisplay\n",
        "import matplotlib.pyplot as plt\n",
        "import seaborn as sns"
      ],
      "metadata": {
        "id": "KECUMn0E_LUr"
      },
      "execution_count": 1,
      "outputs": []
    },
    {
      "cell_type": "markdown",
      "source": [
        "## Set a Seed"
      ],
      "metadata": {
        "id": "b3DbO11ZGZ5Q"
      }
    },
    {
      "cell_type": "code",
      "source": [
        "# Set a seed for reproducibility\n",
        "np.random.seed(42)"
      ],
      "metadata": {
        "id": "Z_UJixrSGbzH"
      },
      "execution_count": 2,
      "outputs": []
    },
    {
      "cell_type": "markdown",
      "source": [
        "## Load Dataset"
      ],
      "metadata": {
        "id": "LadF7stmGfws"
      }
    },
    {
      "cell_type": "code",
      "source": [
        "# Load the dataset from the UCI repository\n",
        "def load_data():\n",
        "    url = \"https://archive.ics.uci.edu/ml/machine-learning-databases/parkinsons/parkinsons.data\"\n",
        "    df = pd.read_csv(url)\n",
        "    print(\"Dataset loaded successfully!\")\n",
        "    print(f\"Dataset shape: {df.shape}\")\n",
        "    print(\"\\nClass distribution:\")\n",
        "    print(df['status'].value_counts())  # Show class balance\n",
        "    return df"
      ],
      "metadata": {
        "id": "PMJS3ctF_SKI"
      },
      "execution_count": 3,
      "outputs": []
    },
    {
      "cell_type": "markdown",
      "source": [
        "## Preprocess Data"
      ],
      "metadata": {
        "id": "aDJ5HJhqGr-S"
      }
    },
    {
      "cell_type": "code",
      "source": [
        "# Preprocess the data: separate features and target, then split\n",
        "def preprocess_data(df):\n",
        "    X = df.drop(['name', 'status'], axis=1)  # Remove non-numeric and target columns\n",
        "    y = df['status']  # Target variable\n",
        "    return train_test_split(X, y, test_size=0.2, stratify=y, random_state=42)"
      ],
      "metadata": {
        "id": "fxrZw18P_Vzh"
      },
      "execution_count": 4,
      "outputs": []
    },
    {
      "cell_type": "markdown",
      "source": [
        "## Pipeline with scaling and classifier"
      ],
      "metadata": {
        "id": "VzjhpGbIGukb"
      }
    },
    {
      "cell_type": "code",
      "source": [
        "# Build a machine learning pipeline with scaling and classifier\n",
        "def build_pipeline():\n",
        "    pipeline = Pipeline([\n",
        "        ('scaler', StandardScaler()),  # Standardize features\n",
        "        ('classifier', RandomForestClassifier(class_weight='balanced', random_state=42))  # Handle class imbalance\n",
        "    ])\n",
        "    return pipeline"
      ],
      "metadata": {
        "id": "J8zy0Yck_XgH"
      },
      "execution_count": 5,
      "outputs": []
    },
    {
      "cell_type": "markdown",
      "source": [
        "## Find the best hyperparameters for classifiers"
      ],
      "metadata": {
        "id": "61Wckd4WG2e7"
      }
    },
    {
      "cell_type": "code",
      "source": [
        "# Perform grid search to find the best hyperparameters for the classifier\n",
        "def tune_hyperparameters(pipeline, X_train, y_train):\n",
        "    param_grid = {\n",
        "        'classifier__n_estimators': [100, 200],       # Number of trees\n",
        "        'classifier__max_depth': [None, 10, 20],      # Tree depth\n",
        "        'classifier__min_samples_split': [2, 5]       # Minimum samples to split a node\n",
        "    }\n",
        "    cv = StratifiedKFold(n_splits=5, shuffle=True, random_state=42)  # Cross-validation with stratified folds\n",
        "    grid_search = GridSearchCV(pipeline, param_grid, cv=cv, scoring='accuracy', n_jobs=-1)\n",
        "    grid_search.fit(X_train, y_train)\n",
        "    print(f\"Best parameters: {grid_search.best_params_}\")\n",
        "    return grid_search.best_estimator_  # Return the best model"
      ],
      "metadata": {
        "id": "DY_apH6V_bRA"
      },
      "execution_count": 6,
      "outputs": []
    },
    {
      "cell_type": "markdown",
      "source": [
        "## Evaluate Model"
      ],
      "metadata": {
        "id": "lHIiUiv9HAXu"
      }
    },
    {
      "cell_type": "code",
      "source": [
        "# Evaluate the model on test data using various metrics and plots\n",
        "def evaluate_model(model, X_test, y_test):\n",
        "    y_pred = model.predict(X_test)\n",
        "    y_prob = model.predict_proba(X_test)[:, 1]  # Probability estimates for the positive class\n",
        "\n",
        "    # Classification performance report\n",
        "    print(\"\\nClassification Report:\")\n",
        "    print(classification_report(y_test, y_pred))\n",
        "\n",
        "    # Compute and print AUC-ROC score\n",
        "    auc = roc_auc_score(y_test, y_prob)\n",
        "    print(f\"AUC-ROC: {auc:.4f}\")\n",
        "    # Plot ROC curve\n",
        "    fpr, tpr, _ = roc_curve(y_test, y_prob)\n",
        "    plt.figure()\n",
        "    plt.plot(fpr, tpr, label=f\"AUC = {auc:.2f}\")\n",
        "    plt.plot([0, 1], [0, 1], 'k--')  # Diagonal line for reference\n",
        "    plt.xlabel(\"False Positive Rate\")\n",
        "    plt.ylabel(\"True Positive Rate\")\n",
        "    plt.title(\"ROC Curve\")\n",
        "    plt.legend()\n",
        "    plt.show()\n",
        "    # Confusion matrix visualization\n",
        "    cm = confusion_matrix(y_test, y_pred)\n",
        "    disp = ConfusionMatrixDisplay(confusion_matrix=cm)\n",
        "    disp.plot(cmap='Blues')\n",
        "    plt.title(\"Confusion Matrix\")\n",
        "    plt.show()"
      ],
      "metadata": {
        "id": "o3hsSQTlX3ae"
      },
      "execution_count": 7,
      "outputs": []
    },
    {
      "cell_type": "markdown",
      "source": [
        "## Main Execution"
      ],
      "metadata": {
        "id": "HmW4ItGLHF8d"
      }
    },
    {
      "cell_type": "code",
      "source": [
        "# Main execution block\n",
        "df = load_data()\n",
        "X_train, X_test, y_train, y_test = preprocess_data(df)\n",
        "pipeline = build_pipeline()\n",
        "model = tune_hyperparameters(pipeline, X_train, y_train)\n",
        "evaluate_model(model, X_test, y_test)"
      ],
      "metadata": {
        "colab": {
          "base_uri": "https://localhost:8080/",
          "height": 1000
        },
        "id": "13qx3SA1_fJe",
        "outputId": "6d10266c-c0b4-41e8-f145-09eaf8a3b707"
      },
      "execution_count": 8,
      "outputs": [
        {
          "output_type": "stream",
          "name": "stdout",
          "text": [
            "Dataset loaded successfully!\n",
            "Dataset shape: (195, 24)\n",
            "\n",
            "Class distribution:\n",
            "status\n",
            "1    147\n",
            "0     48\n",
            "Name: count, dtype: int64\n",
            "Best parameters: {'classifier__max_depth': None, 'classifier__min_samples_split': 5, 'classifier__n_estimators': 100}\n",
            "\n",
            "Classification Report:\n",
            "              precision    recall  f1-score   support\n",
            "\n",
            "           0       0.89      0.80      0.84        10\n",
            "           1       0.93      0.97      0.95        29\n",
            "\n",
            "    accuracy                           0.92        39\n",
            "   macro avg       0.91      0.88      0.90        39\n",
            "weighted avg       0.92      0.92      0.92        39\n",
            "\n",
            "AUC-ROC: 0.9621\n"
          ]
        },
        {
          "output_type": "display_data",
          "data": {
            "text/plain": [
              "<Figure size 640x480 with 1 Axes>"
            ],
            "image/png": "[encoded data removed]"
          },
          "metadata": {}
        },
        {
          "output_type": "display_data",
          "data": {
            "text/plain": [
              "<Figure size 640x480 with 2 Axes>"
            ],
            "image/png": "[encoded data removed]"
          },
          "metadata": {}
        }
      ]
    },
    {
      "cell_type": "markdown",
      "source": [
        "## Model Conversion from Scikit-Learn to TensorFlow Lite for Edge Deployment"
      ],
      "metadata": {
        "id": "8_XiRXjLIS_r"
      }
    },
    {
      "cell_type": "code",
      "source": [
        "# ---------------------------------------\n",
        "# CELL 1 - Required Imports\n",
        "# ---------------------------------------\n",
        "import pandas as pd\n",
        "import numpy as np\n",
        "from sklearn.model_selection import train_test_split\n",
        "from sklearn.preprocessing import StandardScaler\n",
        "from sklearn.ensemble import RandomForestClassifier\n",
        "import tensorflow as tf\n",
        "import joblib\n",
        "\n",
        "# ---------------------------------------\n",
        "# CELL 2 - Train and Save scikit-learn Model\n",
        "# ---------------------------------------\n",
        "def train_sklearn_model():\n",
        "    # Load Parkinson dataset\n",
        "    url = \"https://archive.ics.uci.edu/ml/machine-learning-databases/parkinsons/parkinsons.data\"\n",
        "    df = pd.read_csv(url)\n",
        "\n",
        "    # Prepare features and target\n",
        "    X = df.drop(['name', 'status'], axis=1)\n",
        "    y = df['status']\n",
        "\n",
        "    # Scale features\n",
        "    scaler = StandardScaler()\n",
        "    X_scaled = scaler.fit_transform(X)\n",
        "\n",
        "    # Train Random Forest\n",
        "    model = RandomForestClassifier(n_estimators=100, random_state=42)\n",
        "    model.fit(X_scaled, y)\n",
        "\n",
        "    # Save model components\n",
        "    joblib.dump(scaler, 'scaler.joblib')\n",
        "    joblib.dump(model, 'rf_model.joblib')\n",
        "    joblib.dump(list(X.columns), 'feature_names.joblib')\n",
        "\n",
        "    return scaler, model, list(X.columns)\n",
        "\n",
        "# ---------------------------------------\n",
        "# CELL 3 - Define a TensorFlow Model\n",
        "# ---------------------------------------\n",
        "def create_tf_model(input_dim):\n",
        "    # Simple feedforward neural network\n",
        "    model = tf.keras.Sequential([\n",
        "        tf.keras.layers.Input(shape=(input_dim,)),\n",
        "        tf.keras.layers.Dense(64, activation='relu'),\n",
        "        tf.keras.layers.Dense(32, activation='relu'),\n",
        "        tf.keras.layers.Dense(2, activation='softmax')  # Binary classification\n",
        "    ])\n",
        "    model.compile(optimizer='adam', loss='sparse_categorical_crossentropy', metrics=['accuracy'])\n",
        "    return model\n",
        "\n",
        "# ---------------------------------------\n",
        "# CELL 4 - Transfer and Convert to TFLite\n",
        "# ---------------------------------------\n",
        "def transfer_to_tf_model(sklearn_model, scaler, feature_names):\n",
        "    # Load the dataset again\n",
        "    url = \"https://archive.ics.uci.edu/ml/machine-learning-databases/parkinsons/parkinsons.data\"\n",
        "    df = pd.read_csv(url)\n",
        "    X = df.drop(['name', 'status'], axis=1)\n",
        "    y = df['status']\n",
        "\n",
        "    # Scale using the same scaler\n",
        "    X_scaled = scaler.transform(X)\n",
        "\n",
        "    # Create and train a compatible TensorFlow model\n",
        "    tf_model = create_tf_model(len(feature_names))\n",
        "    tf_model.fit(X_scaled, y, epochs=10, verbose=0)  # Brief training\n",
        "\n",
        "    # Save the Keras model\n",
        "    tf_model.save('parkinsons_model.keras')\n",
        "\n",
        "    # Convert to TFLite format\n",
        "    converter = tf.lite.TFLiteConverter.from_keras_model(tf_model)\n",
        "    tflite_model = converter.convert()\n",
        "\n",
        "    # Save the .tflite model\n",
        "    with open('parkinsons_model.tflite', 'wb') as f:\n",
        "        f.write(tflite_model)\n",
        "\n",
        "    return tf_model\n",
        "\n",
        "# ---------------------------------------\n",
        "# CELL 5 - Execute the Pipeline\n",
        "# ---------------------------------------\n",
        "print(\"Training scikit-learn model...\")\n",
        "scaler, sklearn_model, feature_names = train_sklearn_model()\n",
        "\n",
        "print(\"Converting to TensorFlow Lite...\")\n",
        "tf_model = transfer_to_tf_model(sklearn_model, scaler, feature_names)\n",
        "\n",
        "print(\"Model conversion completed successfully!\")\n",
        "\n",
        "# ---------------------------------------\n",
        "# CELL 6 - Test the TFLite Model Inference\n",
        "# ---------------------------------------\n",
        "def test_tflite_model():\n",
        "    # Load one sample input\n",
        "    url = \"https://archive.ics.uci.edu/ml/machine-learning-databases/parkinsons/parkinsons.data\"\n",
        "    df = pd.read_csv(url)\n",
        "    X = df.drop(['name', 'status'], axis=1)[:1]  # First sample only\n",
        "    X_scaled = scaler.transform(X)\n",
        "\n",
        "    # Load the TensorFlow Lite model\n",
        "    interpreter = tf.lite.Interpreter(model_path=\"parkinsons_model.tflite\")\n",
        "    interpreter.allocate_tensors()\n",
        "\n",
        "    # Get tensor references\n",
        "    input_details = interpreter.get_input_details()\n",
        "    output_details = interpreter.get_output_details()\n",
        "\n",
        "    # Set input and run inference\n",
        "    input_data = X_scaled.astype(np.float32)\n",
        "    interpreter.set_tensor(input_details[0]['index'], [input_data[0]])\n",
        "    interpreter.invoke()\n",
        "\n",
        "    # Read output\n",
        "    output_data = interpreter.get_tensor(output_details[0]['index'])\n",
        "\n",
        "    print(\"\\nTFLite Inference completed.\")\n",
        "    print(\"Output shape:\", output_data.shape)\n",
        "    print(\"Prediction probabilities:\", output_data[0])\n",
        "\n",
        "# Run test\n",
        "test_tflite_model()"
      ],
      "metadata": {
        "colab": {
          "base_uri": "https://localhost:8080/"
        },
        "id": "dAUJS_DKAQwx",
        "outputId": "05edd9d7-cdc6-4204-f639-d368f518d751"
      },
      "execution_count": 15,
      "outputs": [
        {
          "output_type": "stream",
          "name": "stdout",
          "text": [
            "Training scikit-learn model...\n",
            "Converting to TensorFlow Lite...\n",
            "Saved artifact at '/tmp/tmp0hf6bvc5'. The following endpoints are available:\n",
            "\n",
            "* Endpoint 'serve'\n",
            "  args_0 (POSITIONAL_ONLY): TensorSpec(shape=(None, 22), dtype=tf.float32, name='keras_tensor_4')\n",
            "Output Type:\n",
            "  TensorSpec(shape=(None, 2), dtype=tf.float32, name=None)\n",
            "Captures:\n",
            "  132667299524112: TensorSpec(shape=(), dtype=tf.resource, name=None)\n",
            "  132665214110032: TensorSpec(shape=(), dtype=tf.resource, name=None)\n",
            "  132665214110224: TensorSpec(shape=(), dtype=tf.resource, name=None)\n",
            "  132665214111376: TensorSpec(shape=(), dtype=tf.resource, name=None)\n",
            "  132665214110800: TensorSpec(shape=(), dtype=tf.resource, name=None)\n",
            "  132665214112144: TensorSpec(shape=(), dtype=tf.resource, name=None)\n",
            "Model conversion completed successfully!\n",
            "\n",
            "TFLite Inference completed.\n",
            "Output shape: (1, 2)\n",
            "Prediction probabilities: [0.0118382  0.98816174]\n"
          ]
        }
      ]
    }
  ]
}