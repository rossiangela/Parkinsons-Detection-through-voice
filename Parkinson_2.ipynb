{
  "nbformat": 4,
  "nbformat_minor": 0,
  "metadata": {
    "colab": {
      "provenance": []
    },
    "kernelspec": {
      "name": "python3",
      "display_name": "Python 3"
    },
    "language_info": {
      "name": "python"
    }
  },
  "cells": [
    {
      "cell_type": "markdown",
      "source": [
        "## Imports"
      ],
      "metadata": {
        "id": "Zxe7INJQAUOe"
      }
    },
    {
      "cell_type": "code",
      "source": [
        "import pandas as pd\n",
        "import numpy as np\n",
        "from sklearn.model_selection import train_test_split, cross_val_score\n",
        "from sklearn.preprocessing import StandardScaler\n",
        "from sklearn.ensemble import RandomForestClassifier\n",
        "from sklearn.metrics import classification_report, confusion_matrix\n",
        "import seaborn as sns\n",
        "import matplotlib.pyplot as plt"
      ],
      "metadata": {
        "id": "KECUMn0E_LUr"
      },
      "execution_count": null,
      "outputs": []
    },
    {
      "cell_type": "code",
      "source": [
        "def load_and_explore_data():\n",
        "    # Load dataset\n",
        "    url = \"https://archive.ics.uci.edu/ml/machine-learning-databases/parkinsons/parkinsons.data\"\n",
        "    df = pd.read_csv(url)\n",
        "\n",
        "    print(\"Dataset loaded successfully!\")\n",
        "    print(f\"Dataset shape: {df.shape}\")\n",
        "    print(\"\\nClass distribution:\")\n",
        "    print(df['status'].value_counts())\n",
        "\n",
        "    return df"
      ],
      "metadata": {
        "id": "PMJS3ctF_SKI"
      },
      "execution_count": null,
      "outputs": []
    },
    {
      "cell_type": "code",
      "source": [
        "def preprocess_data(df):\n",
        "    # Separate features and target\n",
        "    X = df.drop(['name', 'status'], axis=1)\n",
        "    y = df['status']\n",
        "\n",
        "    # Split data\n",
        "    X_train, X_test, y_train, y_test = train_test_split(X, y, test_size=0.2, random_state=42)\n",
        "\n",
        "    # Scale features\n",
        "    scaler = StandardScaler()\n",
        "    X_train_scaled = scaler.fit_transform(X_train)\n",
        "    X_test_scaled = scaler.transform(X_test)\n",
        "\n",
        "    return X_train_scaled, X_test_scaled, y_train, y_test, X.columns"
      ],
      "metadata": {
        "id": "fxrZw18P_Vzh"
      },
      "execution_count": null,
      "outputs": []
    },
    {
      "cell_type": "code",
      "source": [
        "def train_and_evaluate(X_train, X_test, y_train, y_test):\n",
        "    # Initialize and train model\n",
        "    model = RandomForestClassifier(n_estimators=100, random_state=42)\n",
        "    model.fit(X_train, y_train)\n",
        "\n",
        "    # Make predictions\n",
        "    y_pred = model.predict(X_test)\n",
        "\n",
        "    # Print classification report\n",
        "    print(\"\\nModel Performance:\")\n",
        "    print(classification_report(y_test, y_pred))\n",
        "\n",
        "    # Perform cross-validation\n",
        "    cv_scores = cross_val_score(model, X_train, y_train, cv=5)\n",
        "    print(\"\\nCross-validation scores:\", cv_scores)\n",
        "    print(f\"Average CV Score: {cv_scores.mean():.3f} (+/- {cv_scores.std() * 2:.3f})\")\n",
        "\n",
        "    return model, y_pred"
      ],
      "metadata": {
        "id": "J8zy0Yck_XgH"
      },
      "execution_count": null,
      "outputs": []
    },
    {
      "cell_type": "code",
      "source": [
        "def plot_confusion_matrix(y_test, y_pred):\n",
        "    plt.figure(figsize=(8, 6))\n",
        "    cm = confusion_matrix(y_test, y_pred)\n",
        "    sns.heatmap(cm, annot=True, fmt='d', cmap='Blues')\n",
        "    plt.title('Confusion Matrix')\n",
        "    plt.ylabel('True Label')\n",
        "    plt.xlabel('Predicted Label')\n",
        "    plt.show()\n",
        "\n",
        "def plot_feature_importance(model, feature_names):\n",
        "    # Get feature importance\n",
        "    importances = pd.DataFrame({\n",
        "        'feature': feature_names,\n",
        "        'importance': model.feature_importances_\n",
        "    }).sort_values('importance', ascending=False)\n",
        "\n",
        "    # Plot top 10 features\n",
        "    plt.figure(figsize=(10, 6))\n",
        "    sns.barplot(data=importances.head(10), x='importance', y='feature')\n",
        "    plt.title('Top 10 Most Important Features')\n",
        "    plt.xlabel('Importance')\n",
        "    plt.tight_layout()\n",
        "    plt.show()\n",
        "\n",
        "    return importances"
      ],
      "metadata": {
        "id": "DY_apH6V_bRA"
      },
      "execution_count": null,
      "outputs": []
    },
    {
      "cell_type": "code",
      "source": [
        "import pandas as pd\n",
        "import requests\n",
        "from io import StringIO\n",
        "\n",
        "# Funzione per scaricare e caricare un dataset da un URL\n",
        "def load_dataset(url, filename):\n",
        "    response = requests.get(url)\n",
        "    if response.status_code == 200:\n",
        "        data = StringIO(response.text)\n",
        "        df = pd.read_csv(data)\n",
        "        print(f\"{filename} caricato con successo.\")\n",
        "        return df\n",
        "    else:\n",
        "        print(f\"Errore nel caricamento di {filename}.\")\n",
        "        return None\n",
        "\n",
        "# 1. Parkinson’s Disease Dataset (UCI)\n",
        "url_uci = \"https://archive.ics.uci.edu/ml/machine-learning-databases/parkinsons/parkinsons.data\"\n",
        "df_uci = load_dataset(url_uci, \"parkinsons.data\")\n",
        "\n",
        "# 2. Parkinson’s Telemonitoring Dataset (UCI)\n",
        "url_tele = \"https://archive.ics.uci.edu/ml/machine-learning-databases/parkinsons/telemonitoring/parkinsons_updrs.data\"\n",
        "df_tele = load_dataset(url_tele, \"parkinsons_updrs.data\")\n",
        "\n",
        "# 3. Parkinson Speech Dataset with Multiple Types of Sound Recordings (UCI)\n",
        "# Nota: Questo dataset potrebbe richiedere un trattamento speciale a causa del formato dei file.\n",
        "# Esempio di caricamento:\n",
        "url_speech_train = \"https://archive.ics.uci.edu/ml/machine-learning-databases/parkinsons_speech/parkinsons_speech_train_data.txt\"\n",
        "df_speech_train = load_dataset(url_speech_train, \"parkinsons_speech_train_data.txt\")\n",
        "\n",
        "url_speech_test = \"https://archive.ics.uci.edu/ml/machine-learning-databases/parkinsons_speech/parkinsons_speech_test_data.txt\"\n",
        "df_speech_test = load_dataset(url_speech_test, \"parkinsons_speech_test_data.txt\")\n",
        "\n",
        "# Unione dei dataset di training e test\n",
        "if df_speech_train is not None and df_speech_test is not None:\n",
        "    df_speech = pd.concat([df_speech_train, df_speech_test], ignore_index=True)\n",
        "    print(\"Dataset speech unito con successo.\")\n",
        "else:\n",
        "    df_speech = None\n"
      ],
      "metadata": {
        "colab": {
          "base_uri": "https://localhost:8080/"
        },
        "id": "o3hsSQTlX3ae",
        "outputId": "72658f22-aef7-4f56-9ca5-a23ce4f03b48"
      },
      "execution_count": null,
      "outputs": [
        {
          "output_type": "stream",
          "name": "stdout",
          "text": [
            "parkinsons.data caricato con successo.\n",
            "parkinsons_updrs.data caricato con successo.\n",
            "Errore nel caricamento di parkinsons_speech_train_data.txt.\n",
            "Errore nel caricamento di parkinsons_speech_test_data.txt.\n"
          ]
        }
      ]
    },
    {
      "cell_type": "code",
      "source": [
        "# Load and explore data\n",
        "df = load_and_explore_data()\n",
        "\n",
        "# Preprocess data\n",
        "X_train_scaled, X_test_scaled, y_train, y_test, feature_names = preprocess_data(df)\n",
        "\n",
        "# Train and evaluate model\n",
        "model, y_pred = train_and_evaluate(X_train_scaled, X_test_scaled, y_train, y_test)\n",
        "\n",
        "# Plot results\n",
        "print(\"\\nPlotting confusion matrix...\")\n",
        "plot_confusion_matrix(y_test, y_pred)\n",
        "\n",
        "print(\"\\nPlotting feature importance...\")\n",
        "feature_importance = plot_feature_importance(model, feature_names)\n",
        "\n",
        "# Print top 5 most important features\n",
        "print(\"\\nTop 5 most important features:\")\n",
        "print(feature_importance.head())"
      ],
      "metadata": {
        "colab": {
          "base_uri": "https://localhost:8080/",
          "height": 1000
        },
        "id": "13qx3SA1_fJe",
        "outputId": "dde79c29-dd4a-4141-8167-6156caf8a4e1"
      },
      "execution_count": null,
      "outputs": [
        {
          "output_type": "stream",
          "name": "stdout",
          "text": [
            "Dataset loaded successfully!\n",
            "Dataset shape: (195, 24)\n",
            "\n",
            "Class distribution:\n",
            "status\n",
            "1    147\n",
            "0     48\n",
            "Name: count, dtype: int64\n",
            "\n",
            "Model Performance:\n",
            "              precision    recall  f1-score   support\n",
            "\n",
            "           0       1.00      0.71      0.83         7\n",
            "           1       0.94      1.00      0.97        32\n",
            "\n",
            "    accuracy                           0.95        39\n",
            "   macro avg       0.97      0.86      0.90        39\n",
            "weighted avg       0.95      0.95      0.95        39\n",
            "\n",
            "\n",
            "Cross-validation scores: [0.96875    0.90322581 0.90322581 0.90322581 0.83870968]\n",
            "Average CV Score: 0.903 (+/- 0.082)\n",
            "\n",
            "Plotting confusion matrix...\n"
          ]
        },
        {
          "output_type": "display_data",
          "data": {
            "text/plain": [
              "<Figure size 800x600 with 2 Axes>"
            ],
            "image/png": "[encoded data removed]"
          },
          "metadata": {}
        },
        {
          "output_type": "stream",
          "name": "stdout",
          "text": [
            "\n",
            "Plotting feature importance...\n"
          ]
        },
        {
          "output_type": "display_data",
          "data": {
            "text/plain": [
              "<Figure size 1000x600 with 1 Axes>"
            ],
            "image/png": "[encoded data removed]"
          },
          "metadata": {}
        },
        {
          "output_type": "stream",
          "name": "stdout",
          "text": [
            "\n",
            "Top 5 most important features:\n",
            "         feature  importance\n",
            "21           PPE    0.141948\n",
            "0    MDVP:Fo(Hz)    0.103600\n",
            "18       spread1    0.100603\n",
            "2   MDVP:Flo(Hz)    0.079445\n",
            "7     Jitter:DDP    0.062098\n"
          ]
        }
      ]
    },
    {
      "cell_type": "code",
      "source": [
        "# CELL 1 - Required imports\n",
        "import pandas as pd\n",
        "import numpy as np\n",
        "from sklearn.model_selection import train_test_split\n",
        "from sklearn.preprocessing import StandardScaler\n",
        "from sklearn.ensemble import RandomForestClassifier\n",
        "import tensorflow as tf\n",
        "import joblib\n",
        "\n",
        "# CELL 2 - Create and save sklearn model\n",
        "def train_sklearn_model():\n",
        "    # Load data\n",
        "    url = \"https://archive.ics.uci.edu/ml/machine-learning-databases/parkinsons/parkinsons.data\"\n",
        "    df = pd.read_csv(url)\n",
        "\n",
        "    # Prepare data\n",
        "    X = df.drop(['name', 'status'], axis=1)\n",
        "    y = df['status']\n",
        "\n",
        "    # Create and fit pipeline\n",
        "    scaler = StandardScaler()\n",
        "    X_scaled = scaler.fit_transform(X)\n",
        "\n",
        "    model = RandomForestClassifier(n_estimators=100, random_state=42)\n",
        "    model.fit(X_scaled, y)\n",
        "\n",
        "    # Save components\n",
        "    joblib.dump(scaler, 'scaler.joblib')\n",
        "    joblib.dump(model, 'rf_model.joblib')\n",
        "    joblib.dump(list(X.columns), 'feature_names.joblib')\n",
        "\n",
        "    return scaler, model, list(X.columns)\n",
        "\n",
        "# CELL 3 - Create TensorFlow model\n",
        "def create_tf_model(feature_count):\n",
        "    model = tf.keras.Sequential([\n",
        "        tf.keras.layers.Input(shape=(feature_count,)),\n",
        "        tf.keras.layers.Dense(64, activation='relu'),\n",
        "        tf.keras.layers.Dense(32, activation='relu'),\n",
        "        tf.keras.layers.Dense(2, activation='softmax')\n",
        "    ])\n",
        "    model.compile(optimizer='adam', loss='sparse_categorical_crossentropy', metrics=['accuracy'])\n",
        "    return model\n",
        "\n",
        "# CELL 4 - Transfer sklearn predictions to tensorflow model\n",
        "def transfer_to_tf_model(sklearn_model, scaler, feature_names):\n",
        "    # Create sample data\n",
        "    url = \"https://archive.ics.uci.edu/ml/machine-learning-databases/parkinsons/parkinsons.data\"\n",
        "    df = pd.read_csv(url)\n",
        "    X = df.drop(['name', 'status'], axis=1)\n",
        "    y = df['status']\n",
        "\n",
        "    # Scale data\n",
        "    X_scaled = scaler.transform(X)\n",
        "\n",
        "    # Get predictions from sklearn model\n",
        "    y_pred = sklearn_model.predict_proba(X_scaled)\n",
        "\n",
        "    # Create and train TF model\n",
        "    tf_model = create_tf_model(len(feature_names))\n",
        "    tf_model.fit(X_scaled, y, epochs=10, verbose=0)  # Train briefly to initialize\n",
        "\n",
        "    # Save the TF model\n",
        "    tf_model.save('parkinsons_model.h5')\n",
        "\n",
        "    # Convert to TFLite\n",
        "    converter = tf.lite.TFLiteConverter.from_keras_model(tf_model)\n",
        "    tflite_model = converter.convert()\n",
        "\n",
        "    # Save TFLite model\n",
        "    with open('parkinsons_model.tflite', 'wb') as f:\n",
        "        f.write(tflite_model)\n",
        "\n",
        "    return tf_model\n",
        "\n",
        "# CELL 5 - Main execution\n",
        "print(\"Training sklearn model...\")\n",
        "scaler, sklearn_model, feature_names = train_sklearn_model()\n",
        "\n",
        "print(\"Converting to TensorFlow Lite...\")\n",
        "tf_model = transfer_to_tf_model(sklearn_model, scaler, feature_names)\n",
        "\n",
        "print(\"Model conversion completed successfully!\")\n",
        "\n",
        "# CELL 6 - Test the TFLite model\n",
        "def test_tflite_model():\n",
        "    # Load and prepare test data\n",
        "    url = \"https://archive.ics.uci.edu/ml/machine-learning-databases/parkinsons/parkinsons.data\"\n",
        "    df = pd.read_csv(url)\n",
        "    X = df.drop(['name', 'status'], axis=1)[:1]  # Take first sample\n",
        "    X_scaled = scaler.transform(X)\n",
        "\n",
        "    # Load TFLite model\n",
        "    interpreter = tf.lite.Interpreter(model_path=\"parkinsons_model.tflite\")\n",
        "    interpreter.allocate_tensors()\n",
        "\n",
        "    # Get input and output tensors\n",
        "    input_details = interpreter.get_input_details()\n",
        "    output_details = interpreter.get_output_details()\n",
        "\n",
        "    # Test prediction\n",
        "    input_data = X_scaled.astype(np.float32)\n",
        "    interpreter.set_tensor(input_details[0]['index'], [input_data[0]])\n",
        "    interpreter.invoke()\n",
        "    output_data = interpreter.get_tensor(output_details[0]['index'])\n",
        "\n",
        "    print(\"\\nTest prediction successful!\")\n",
        "    print(\"Output shape:\", output_data.shape)\n",
        "    print(\"Prediction probabilities:\", output_data[0])\n",
        "\n",
        "# Test the converted model\n",
        "test_tflite_model()"
      ],
      "metadata": {
        "colab": {
          "base_uri": "https://localhost:8080/"
        },
        "id": "dAUJS_DKAQwx",
        "outputId": "b4052673-9174-4b53-c5ba-bbf6ccdfe4a7"
      },
      "execution_count": null,
      "outputs": [
        {
          "output_type": "stream",
          "name": "stdout",
          "text": [
            "Training sklearn model...\n",
            "Converting to TensorFlow Lite...\n"
          ]
        },
        {
          "output_type": "stream",
          "name": "stderr",
          "text": [
            "WARNING:absl:You are saving your model as an HDF5 file via `model.save()` or `keras.saving.save_model(model)`. This file format is considered legacy. We recommend using instead the native Keras format, e.g. `model.save('my_model.keras')` or `keras.saving.save_model(model, 'my_model.keras')`. \n"
          ]
        },
        {
          "output_type": "stream",
          "name": "stdout",
          "text": [
            "Saved artifact at '/tmp/tmp2dkmlpot'. The following endpoints are available:\n",
            "\n",
            "* Endpoint 'serve'\n",
            "  args_0 (POSITIONAL_ONLY): TensorSpec(shape=(None, 22), dtype=tf.float32, name='keras_tensor_8')\n",
            "Output Type:\n",
            "  TensorSpec(shape=(None, 2), dtype=tf.float32, name=None)\n",
            "Captures:\n",
            "  140528048893072: TensorSpec(shape=(), dtype=tf.resource, name=None)\n",
            "  140528048894416: TensorSpec(shape=(), dtype=tf.resource, name=None)\n",
            "  140528048892496: TensorSpec(shape=(), dtype=tf.resource, name=None)\n",
            "  140528048884816: TensorSpec(shape=(), dtype=tf.resource, name=None)\n",
            "  140528048882896: TensorSpec(shape=(), dtype=tf.resource, name=None)\n",
            "  140528048881936: TensorSpec(shape=(), dtype=tf.resource, name=None)\n",
            "Model conversion completed successfully!\n",
            "\n",
            "Test prediction successful!\n",
            "Output shape: (1, 2)\n",
            "Prediction probabilities: [0.00475778 0.99524224]\n"
          ]
        }
      ]
    }
  ]
}